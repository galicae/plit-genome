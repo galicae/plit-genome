{
 "cells": [
  {
   "cell_type": "code",
   "execution_count": 1,
   "metadata": {},
   "outputs": [],
   "source": [
    "import os\n",
    "import pandas as pd"
   ]
  },
  {
   "cell_type": "code",
   "execution_count": 2,
   "metadata": {},
   "outputs": [],
   "source": [
    "draft = \"/Volumes/scratch/pycnogonum/genome/draft/GAP_sort_scaffolds_by_hic_insert/output/assembly/plit_q_0_50000_0.5FracBest_output.fasta\"\n",
    "suspect = \"/Volumes/scratch/pycnogonum/genome/draft/contamination/scaffolds_taxonomic_distribution_suspect.tsv\"\n",
    "filtered_draft = \"/Volumes/scratch/pycnogonum/genome/draft/contamination/plit_q_0_50000_0.5FracBest_output_filtered.fasta\""
   ]
  },
  {
   "cell_type": "code",
   "execution_count": 3,
   "metadata": {},
   "outputs": [],
   "source": [
    "exclude = pd.read_csv(suspect, sep=\"\\t\", index_col=0).index.values"
   ]
  },
  {
   "cell_type": "code",
   "execution_count": 4,
   "metadata": {},
   "outputs": [
    {
     "data": {
      "text/plain": [
       "array(['scaffold_1542', 'scaffold_373', 'scaffold_405', ...,\n",
       "       'scaffold_6737', 'scaffold_4062', 'scaffold_1888'], dtype=object)"
      ]
     },
     "execution_count": 4,
     "metadata": {},
     "output_type": "execute_result"
    }
   ],
   "source": [
    "exclude"
   ]
  },
  {
   "cell_type": "code",
   "execution_count": 5,
   "metadata": {},
   "outputs": [],
   "source": [
    "copying = False\n",
    "with open(draft, 'r') as f:\n",
    "    with open(filtered_draft, 'w') as out:\n",
    "        for line in f:\n",
    "            if line.startswith('>'):\n",
    "                seq = line[1:].split()[0]\n",
    "                if seq in exclude:\n",
    "                    copying = False\n",
    "                else: \n",
    "                    copying = True\n",
    "                    out.write(line)\n",
    "            else:\n",
    "                if copying:\n",
    "                    out.write(line)"
   ]
  },
  {
   "cell_type": "code",
   "execution_count": 6,
   "metadata": {},
   "outputs": [
    {
     "name": "stdout",
     "output_type": "stream",
     "text": [
      "   11648\n",
      "   10258\n"
     ]
    }
   ],
   "source": [
    "%%bash -s \"$filtered_draft\" \"$draft\"\n",
    "draft=$2\n",
    "filtered_draft=$1\n",
    "grep \">\" $draft | wc -l\n",
    "grep \">\" $filtered_draft | wc -l"
   ]
  }
 ],
 "metadata": {
  "kernelspec": {
   "display_name": "ascc24",
   "language": "python",
   "name": "python3"
  },
  "language_info": {
   "codemirror_mode": {
    "name": "ipython",
    "version": 3
   },
   "file_extension": ".py",
   "mimetype": "text/x-python",
   "name": "python",
   "nbconvert_exporter": "python",
   "pygments_lexer": "ipython3",
   "version": "3.9.19"
  }
 },
 "nbformat": 4,
 "nbformat_minor": 2
}
