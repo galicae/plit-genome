{
 "cells": [
  {
   "cell_type": "markdown",
   "metadata": {},
   "source": [
    "# Adding functional annotation from EggNOG-mapper\n",
    "\n"
   ]
  },
  {
   "cell_type": "code",
   "execution_count": null,
   "metadata": {},
   "outputs": [],
   "source": [
    "# from tqdm import tqdm # install it for nice progress bars\n",
    "\n",
    "import pandas as pd"
   ]
  },
  {
   "cell_type": "markdown",
   "metadata": {},
   "source": [
    "### util functions\n",
    "\n",
    "We are going to need three helper functions:\n",
    "\n",
    "- extract the gene ID from the `#query` field of the EggNOG-mapper output\n",
    "- break up the content of the attributes field of the GFF file into a dictionary\n",
    "- find the correct protein name for a gene ID"
   ]
  },
  {
   "cell_type": "code",
   "execution_count": null,
   "metadata": {},
   "outputs": [],
   "source": [
    "def parse_gene_id(x):\n",
    "    \"\"\"Extract gene ID from a string\n",
    "\n",
    "    Parameters\n",
    "    ----------\n",
    "    x : str\n",
    "        A protein ID from the eggNOG-mapper output.\n",
    "\n",
    "    Returns\n",
    "    -------\n",
    "    str\n",
    "        will return the gene ID in the format of 'PB.X' (PacBio genes) or 'gX' (BRAKER round 1) or 'r2_gX' (BRAKER round 2) or 'at_DNX (de-novo transcriptome-assembled genes)'\n",
    "    \"\"\"\n",
    "    if 'PB' in x:\n",
    "        parts = x.split('.')\n",
    "        return '.'.join(parts[:2])\n",
    "    elif x.startswith('r2') or x.startswith('g') or x.startswith('at'):\n",
    "        return x.split('.')[0]\n",
    "    else:\n",
    "        return ValueError('Unknown gene ID format')"
   ]
  },
  {
   "cell_type": "code",
   "execution_count": null,
   "metadata": {},
   "outputs": [],
   "source": [
    "def parse_attributes(x):\n",
    "    '''Parses a semi-colon separated string into a dictionary\n",
    "\n",
    "    Parameters\n",
    "    ----------\n",
    "    x : str\n",
    "        a semicolon-separated string that holds attributes\n",
    "    '''\n",
    "    attributes = x.split(';')\n",
    "    if attributes[-1] == '':\n",
    "        attributes.pop()\n",
    "    return {attr.split('=')[0]: attr.split('=')[1] for attr in attributes}"
   ]
  },
  {
   "cell_type": "code",
   "execution_count": null,
   "metadata": {},
   "outputs": [],
   "source": [
    "def find_protein(gene_id, lookup): # expects a protein-coding gene as input\n",
    "    \"\"\"Generate the correct protein name for a gene ID. Expects a protein-coding gene as input (will not work correctly for tRNA or rRNA genes).\n",
    "\n",
    "    Parameters\n",
    "    ----------\n",
    "    gene_id : str\n",
    "        a P. litorale protein-coding gene ID\n",
    "    lookup : pd.DataFrame\n",
    "        the eggNOG-mapper output file, filtered to maximum one entry per gene ID\n",
    "\n",
    "    Returns\n",
    "    -------\n",
    "    str\n",
    "        the gene symbol (if available) or \"Uncharacterised protein {gene_id}\" if no gene symbol is available.\n",
    "    \"\"\"\n",
    "    if gene_id in lookup.index:\n",
    "        name = lookup.loc[gene_id]['Preferred_name']\n",
    "        if name != '-':\n",
    "            return f'{name} (predicted)'\n",
    "    return f'Uncharacterised protein {gene_id}'"
   ]
  },
  {
   "cell_type": "code",
   "execution_count": null,
   "metadata": {},
   "outputs": [],
   "source": [
    "def find_description(gene_id, lookup): # expects a protein-coding gene as input\n",
    "    \"\"\"Retrieve the EggNOG-mapper description for a gene ID. Expects a protein-coding gene as input (will not work correctly for tRNA or rRNA genes).\n",
    "\n",
    "    Parameters\n",
    "    ----------\n",
    "    gene_id : str\n",
    "        a P. litorale protein-coding gene ID\n",
    "    lookup : pd.DataFrame\n",
    "        the eggNOG-mapper output file, filtered to maximum one entry per gene ID\n",
    "\n",
    "    Returns\n",
    "    -------\n",
    "    str\n",
    "        the description (if available); will return None if no description is available.\n",
    "    \"\"\"\n",
    "    if gene_id in lookup.index:\n",
    "        description = lookup.loc[gene_id]['Description']\n",
    "        if description != '-':\n",
    "            return description\n",
    "    return None"
   ]
  },
  {
   "cell_type": "code",
   "execution_count": null,
   "metadata": {},
   "outputs": [],
   "source": [
    "def find_EC(gene_id, lookup): # expects a protein-coding gene as input\n",
    "    \"\"\"Retrieve the EC number assigned by EggNOG-mapper for a certain gene ID.\n",
    "\n",
    "    Parameters\n",
    "    ----------\n",
    "    gene_id : str\n",
    "        a P. litorale protein-coding gene ID\n",
    "    lookup : pd.DataFrame\n",
    "        the eggNOG-mapper output file, filtered to maximum one entry per gene ID\n",
    "\n",
    "    Returns\n",
    "    -------\n",
    "    str\n",
    "        the EC number (if available) for the current gene (product).\n",
    "    \"\"\"\n",
    "    if gene_id in lookup.index:\n",
    "        ec = lookup.loc[gene_id]['EC']\n",
    "        if ec != '-':\n",
    "            return ec.split(',')\n",
    "    return None\n",
    "\n",
    "def find_PFAMs(gene_id, lookup): # expects a protein-coding gene as input\n",
    "    \"\"\"Retrieve the PFAM domains assigned by EggNOG-mapper for a certain gene ID.\n",
    "\n",
    "    Parameters\n",
    "    ----------\n",
    "    gene_id : str\n",
    "        a P. litorale protein-coding gene ID\n",
    "    lookup : pd.DataFrame\n",
    "        the eggNOG-mapper output file, filtered to maximum one entry per gene ID\n",
    "\n",
    "    Returns\n",
    "    -------\n",
    "    list\n",
    "        a list of PFAM domains (if available) associated with the gene (product).\n",
    "    \"\"\"\n",
    "    if gene_id in lookup.index:\n",
    "        pfam = lookup.loc[gene_id]['PFAMs']\n",
    "        if pfam != '-':\n",
    "            return pfam.split(',')\n",
    "    return None"
   ]
  },
  {
   "cell_type": "markdown",
   "metadata": {},
   "source": [
    "Read the emapper output (filtered to best hit per gene ID) and extract the gene ID in a new column;\n",
    "then set that as the index of the dataframe."
   ]
  },
  {
   "cell_type": "code",
   "execution_count": null,
   "metadata": {},
   "outputs": [],
   "source": [
    "best_per_gene = '/lisc/scratch/zoology/pycnogonum/genome/draft/annot_merge/emapper/out.emapper.best.annotations'\n",
    "emapper = pd.read_csv(best_per_gene, sep='\\t', header=0)\n",
    "\n",
    "emapper['gene'] = emapper['#query'].apply(parse_gene_id)\n",
    "emapper.set_index('gene', inplace=True)"
   ]
  },
  {
   "cell_type": "code",
   "execution_count": null,
   "metadata": {},
   "outputs": [],
   "source": [
    "emapper.columns"
   ]
  },
  {
   "cell_type": "markdown",
   "metadata": {},
   "source": [
    "Loop over the entire GFF file and decorate all the (putative) protein-coding entries to include the\n",
    "gene symbol (name) in some form:\n",
    "\n",
    "- Gene: `gene=Hox3;product=Hox3`\n",
    "- mRNA: `product=Hox3 isoform 1;gene=Hox3`\n",
    "- CDS: `gene=Hox3;product=Hox3`\n",
    "- exon: `gene=Hox3;product=Hox3`\n",
    "\n",
    "All putative mRNAs should have an isoform name (even if it is just `1`); all exons and CDS's should\n",
    "include the gene symbol (`product=` and `gene=` tags) as well, so that lazy GFF readers that grep\n",
    "parts of the GFF (like `CellRanger`) still have access to the functional annotation. This also seems\n",
    "to be the ENA/EMBL strategy; NCBI also directly infers the gene symbol from the CDS/exons."
   ]
  },
  {
   "cell_type": "code",
   "execution_count": null,
   "metadata": {},
   "outputs": [],
   "source": [
    "gff_loc = '/lisc/scratch/zoology/pycnogonum/genome/submission/merged_sorted.gff3'\n",
    "named_loc = '/lisc/scratch/zoology/pycnogonum/genome/submission/merged_sorted_named.gff3'\n",
    "\n",
    "with open(gff_loc, 'r') as gff:\n",
    "    with open(named_loc, 'w') as named:\n",
    "        gene = ''\n",
    "        mRNA = ''\n",
    "        # for line in tqdm(gff.readlines()):\n",
    "        for line in gff.readlines():\n",
    "            line = line.strip()\n",
    "            if line[-1] == ';':\n",
    "                line = line[:-1]\n",
    "            conditions_skip = line.startswith('#') or 'tRNA' in line or 'name=' in line\n",
    "            if not conditions_skip:\n",
    "                seq_id, source, feature_type, start, end, score, strand, phase, attributes = line.split('\\t')\n",
    "                attributes = parse_attributes(attributes)\n",
    "\n",
    "                if feature_type == 'gene':\n",
    "                    gene = attributes['ID']\n",
    "                    name = find_protein(gene, emapper)\n",
    "                    line = f'{line};gene={name}'\n",
    "                    description = find_description(gene, emapper)\n",
    "                    ec_list = find_EC(gene, emapper)\n",
    "                    pfams = find_PFAMs(gene, emapper)\n",
    "                    if description:\n",
    "                        line = f'{line};function={description}'\n",
    "                    if name != f'Uncharacterised protein {gene}' or description:\n",
    "                        line = f'{line};note=function predicted by EggNOG-mapper'\n",
    "\n",
    "                if feature_type == 'mRNA':\n",
    "                    mRNA = attributes['ID']\n",
    "                    isoform = mRNA.split('.')[-1]\n",
    "                    line = f'{line};gene={name};product={name} isoform {isoform}'\n",
    "                    if description:\n",
    "                        line = f'{line};function={description}'\n",
    "                    if name != f'Uncharacterised protein {gene}' or description:\n",
    "                        line = f'{line};note=function predicted by EggNOG-mapper'\n",
    "\n",
    "                if feature_type == 'CDS' or feature_type == 'exon':\n",
    "                    line = f'{line};gene={name};product={name}'\n",
    "                    if description:\n",
    "                        line = f'{line};function={description}'\n",
    "                    if name != f'Uncharacterised protein {gene}' or description:\n",
    "                        line = f'{line};note=function predicted by EggNOG-mapper'\n",
    "                    if ec_list is not None:\n",
    "                        for ec in ec_list:\n",
    "                            line = f'{line};EC_number=\"{ec}\"'\n",
    "                    if pfams is not None:\n",
    "                        for pfam in pfams:\n",
    "                            line = f'{line};Dbxref=\"PFAM:{pfam}\"'\n",
    "            named.write(line + '\\n')"
   ]
  }
 ],
 "metadata": {
  "kernelspec": {
   "display_name": "jupyterhub-5.1.0",
   "language": "python",
   "name": "python3"
  },
  "language_info": {
   "codemirror_mode": {
    "name": "ipython",
    "version": 3
   },
   "file_extension": ".py",
   "mimetype": "text/x-python",
   "name": "python",
   "nbconvert_exporter": "python",
   "pygments_lexer": "ipython3",
   "version": "3.12.4"
  }
 },
 "nbformat": 4,
 "nbformat_minor": 2
}
