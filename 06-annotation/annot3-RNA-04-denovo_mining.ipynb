{
 "cells": [
  {
   "cell_type": "markdown",
   "metadata": {},
   "source": [
    "# Mining the _de novo_ transcriptomes to improve genome annotation\n",
    "\n",
    "An ISO-seq transcriptome and two rounds of BRAKER3 have produced close to 14,500 gene models for the\n",
    "_P. litorale_ genome. However, manual inspection of the RNA-seq peaks in the genome browser revealed\n",
    "that there are still plenty of loci with plausible gene locations that did not receive a gene model.\n",
    "\n",
    "To alleviate that I will try to use the _de novo_ transcriptomes that were generated from the same \n",
    "RNA-seq data that was used for the genome annotation. The idea is to map onto the draft genome and \n",
    "keep the transcripts that don't overlap with any gene models, then gather evidence from multiple\n",
    "transcriptomes to generate gene models."
   ]
  },
  {
   "cell_type": "code",
   "execution_count": 1,
   "metadata": {},
   "outputs": [],
   "source": [
    "%%bash\n",
    "cd /Volumes/scratch/pycnogonum/genome/draft/annot_merge/\n",
    "cat isoseq.gff > merged.gff3\n",
    "cat braker.gff >> merged.gff3\n",
    "cat braker2_unique_renamed_nocodon_intron.gff3 >> merged.gff3\n",
    "\n",
    "cd /Volumes/scratch/pycnogonum/genome/draft/annot_merge/denovo_txomes\n",
    "DRAFT=/Volumes/scratch/pycnogonum/genome/draft/annot_merge/merged.gff3\n",
    "BASE=/Volumes/scratch/pycnogonum/genome/draft/transcriptome\n",
    "\n",
    "EMBRYO3=$BASE/EMBRYO3/txome_assembly.gff\n",
    "INSTAR1=$BASE/INSTAR1/txome_assembly.gff\n",
    "INSTAR2=$BASE/INSTAR2/txome_assembly.gff\n",
    "INSTAR3=$BASE/INSTAR3/txome_assembly.gff\n",
    "INSTAR4=$BASE/INSTAR4/txome_assembly.gff\n",
    "INSTAR5=$BASE/INSTAR5/txome_assembly.gff\n",
    "INSTAR6=$BASE/INSTAR6/txome_assembly.gff\n",
    "JUV1=$BASE/JUV1/txome_assembly.gff\n",
    "SUBADULT=$BASE/SUBADULT/txome_assembly.gff\n",
    "\n",
    "bedtools intersect -v -a $EMBRYO3 -b $DRAFT | sed s/TRINITY/EMBRYO3/g > EMBRYO3.gff\n",
    "bedtools intersect -v -a $INSTAR1 -b $DRAFT | sed s/TRINITY/INSTAR1/g > INSTAR1.gff\n",
    "bedtools intersect -v -a $INSTAR2 -b $DRAFT | sed s/TRINITY/INSTAR2/g > INSTAR2.gff\n",
    "bedtools intersect -v -a $INSTAR3 -b $DRAFT | sed s/TRINITY/INSTAR3/g > INSTAR3.gff\n",
    "bedtools intersect -v -a $INSTAR4 -b $DRAFT | sed s/TRINITY/INSTAR4/g > INSTAR4.gff\n",
    "bedtools intersect -v -a $INSTAR5 -b $DRAFT | sed s/TRINITY/INSTAR5/g > INSTAR5.gff\n",
    "bedtools intersect -v -a $INSTAR6 -b $DRAFT | sed s/TRINITY/INSTAR6/g > INSTAR6.gff\n",
    "bedtools intersect -v -a $JUV1 -b $DRAFT | sed s/TRINITY/JUV1/g > JUV1.gff\n",
    "bedtools intersect -v -a $SUBADULT -b $DRAFT | sed s/TRINITY/SUBADULT/g > SUBADULT.gff"
   ]
  },
  {
   "cell_type": "markdown",
   "metadata": {},
   "source": [
    "Now we can look at the overlap of all of these GFF files, again using `bedtools intersect`. Since\n",
    "this is already tenuous evidence for gene models we should be as strict as possible."
   ]
  },
  {
   "cell_type": "code",
   "execution_count": 2,
   "metadata": {},
   "outputs": [],
   "source": [
    "%%bash \n",
    "cd /Volumes/scratch/pycnogonum/genome/draft/annot_merge/denovo_txomes\n",
    "\n",
    "bedtools intersect -f 0.9 -F 0.9 -wao -a INSTAR3.gff -b EMBRYO3.gff INSTAR1.gff INSTAR2.gff INSTAR4.gff INSTAR5.gff INSTAR6.gff JUV1.gff SUBADULT.gff > overlap.gff"
   ]
  },
  {
   "cell_type": "code",
   "execution_count": 3,
   "metadata": {},
   "outputs": [],
   "source": [
    "from tqdm import tqdm \n",
    "\n",
    "import numpy as np\n",
    "import pandas as pd\n",
    "\n",
    "from matplotlib import pyplot as plt\n",
    "from matplotlib.lines import Line2D"
   ]
  },
  {
   "cell_type": "code",
   "execution_count": 4,
   "metadata": {},
   "outputs": [],
   "source": [
    "file_order = {\n",
    "    \"1\": \"EMBRYO3\",\n",
    "    \"2\": \"INSTAR1\",\n",
    "    \"3\": \"INSTAR2\",\n",
    "    \"4\": \"INSTAR4\",\n",
    "    \"5\": \"INSTAR5\",\n",
    "    \"6\": \"INSTAR6\",\n",
    "    \"7\": \"JUV1\",\n",
    "    \"8\": \"SUBADULT\",\n",
    "}\n",
    "\n",
    "# assign the tab10 colors to each stage\n",
    "colors = {\n",
    "    \"EMBRYO3\": \"tab:blue\",\n",
    "    \"INSTAR1\": \"tab:orange\",\n",
    "    \"INSTAR2\": \"tab:green\",\n",
    "    \"INSTAR4\": \"tab:red\",\n",
    "    \"INSTAR5\": \"tab:purple\",\n",
    "    \"INSTAR6\": \"tab:brown\",\n",
    "    \"JUV1\": \"tab:pink\",\n",
    "    \"SUBADULT\": \"tab:gray\",\n",
    "}\n",
    "\n",
    "legend_elements = [\n",
    "    Line2D([0], [0], marker='o', color='w', label='EMBRYO3', markerfacecolor='tab:blue', markersize=8),\n",
    "    Line2D([0], [0], marker='o', color='w', label='INSTAR1', markerfacecolor='tab:orange', markersize=8),\n",
    "    Line2D([0], [0], marker='o', color='w', label='INSTAR2', markerfacecolor='tab:green', markersize=8),\n",
    "    Line2D([0], [0], marker='o', color='w', label='INSTAR4', markerfacecolor='tab:red', markersize=8),\n",
    "    Line2D([0], [0], marker='o', color='w', label='INSTAR5', markerfacecolor='tab:purple', markersize=8),\n",
    "    Line2D([0], [0], marker='o', color='w', label='INSTAR6', markerfacecolor='tab:brown', markersize=8),\n",
    "    Line2D([0], [0], marker='o', color='w', label='JUV1', markerfacecolor='tab:pink', markersize=8),\n",
    "    Line2D([0], [0], marker='o', color='w', label='SUBADULT', markerfacecolor='tab:gray', markersize=8),\n",
    "]"
   ]
  },
  {
   "cell_type": "code",
   "execution_count": 5,
   "metadata": {},
   "outputs": [
    {
     "name": "stderr",
     "output_type": "stream",
     "text": [
      "/var/folders/md/d6lwwbv97xb6g6ddypntnprh0000gp/T/ipykernel_61764/3506524708.py:1: DtypeWarning: Columns (9,15) have mixed types. Specify dtype option on import or set low_memory=False.\n",
      "  overlap = pd.read_csv('/Volumes/scratch/pycnogonum/genome/draft/annot_merge/denovo_txomes/overlap.gff', sep='\\t', header=None)\n"
     ]
    }
   ],
   "source": [
    "overlap = pd.read_csv('/Volumes/scratch/pycnogonum/genome/draft/annot_merge/denovo_txomes/overlap.gff', sep='\\t', header=None)\n",
    "overlap = overlap.drop(columns=[1, 11])\n",
    "overlap[\"instar3_match\"] = overlap[8].str.split(';').str[0].str.split('=').str[1].str.split(\".\").str[0]\n",
    "overlap[\"target_match\"] = overlap[18].str.split(';').str[0].str.split('=').str[1].str.split(\".\").str[0]\n",
    "overlap[\"target_dataset\"] = overlap[9].astype(str).replace(file_order)\n",
    "overlap[\"target_id\"] = overlap[\"target_dataset\"].astype(str) + \"_\" + overlap[\"target_match\"].astype(str)\n",
    "# we should only keep lines that match similar things (cDNA_match or cDNA_match_part)\n",
    "keep = overlap[2] == overlap[12]\n",
    "overlap = overlap[keep]"
   ]
  },
  {
   "cell_type": "code",
   "execution_count": 6,
   "metadata": {},
   "outputs": [
    {
     "data": {
      "text/plain": [
       "(2635957, 22)"
      ]
     },
     "execution_count": 6,
     "metadata": {},
     "output_type": "execute_result"
    }
   ],
   "source": [
    "overlap.shape"
   ]
  },
  {
   "cell_type": "code",
   "execution_count": 7,
   "metadata": {},
   "outputs": [],
   "source": [
    "gene_level_matches = overlap[overlap[2] == 'cDNA_match']['instar3_match'].unique()\n",
    "overlap = overlap[overlap[\"instar3_match\"].isin(gene_level_matches)]"
   ]
  },
  {
   "cell_type": "code",
   "execution_count": 8,
   "metadata": {},
   "outputs": [
    {
     "data": {
      "text/plain": [
       "(531784, 22)"
      ]
     },
     "execution_count": 8,
     "metadata": {},
     "output_type": "execute_result"
    }
   ],
   "source": [
    "overlap.shape"
   ]
  },
  {
   "cell_type": "code",
   "execution_count": 9,
   "metadata": {},
   "outputs": [],
   "source": [
    "overview = overlap[overlap[2] == \"cDNA_match\"].groupby(\"instar3_match\").apply(lambda x: x[\"target_dataset\"].value_counts()>0, include_groups=False).unstack()\n",
    "overview[\"total_score\"] = overview.sum(axis=1)"
   ]
  },
  {
   "cell_type": "code",
   "execution_count": 10,
   "metadata": {},
   "outputs": [
    {
     "data": {
      "image/png": "[encoded data removed]",
      "text/plain": [
       "<Figure size 640x480 with 1 Axes>"
      ]
     },
     "metadata": {},
     "output_type": "display_data"
    }
   ],
   "source": [
    "overview[\"total_score\"].plot(kind='hist', bins=np.arange(9)+0.6, color='tab:blue', width=0.8);"
   ]
  },
  {
   "cell_type": "code",
   "execution_count": 11,
   "metadata": {},
   "outputs": [],
   "source": [
    "def find_gene_boundaries(df):\n",
    "    entire = df[df[2] == \"cDNA_match\"]\n",
    "    if entire.shape[0] == 0:\n",
    "        return None\n",
    "    start = entire[3].unique()\n",
    "    end = entire[4].unique()\n",
    "    if len(start) > 1 or len(end) > 1:\n",
    "        return ValueError(\"More than one start or end\")\n",
    "    return (df[0].iloc[0], start[0], end[0])"
   ]
  },
  {
   "cell_type": "code",
   "execution_count": 12,
   "metadata": {},
   "outputs": [],
   "source": [
    "def find_exon_boundaries(df):\n",
    "    start = df[13].value_counts().idxmax()\n",
    "    end = df[14].value_counts().idxmax()\n",
    "    return (start, end)"
   ]
  },
  {
   "cell_type": "code",
   "execution_count": 13,
   "metadata": {},
   "outputs": [],
   "source": [
    "def gene_string(gene_id, start, stop, seqid, source, strand, support):\n",
    "    seq_type = \"gene\"\n",
    "    score = \".\"\n",
    "    phase = \".\"\n",
    "    attributes = f\"ID={gene_id};gene_id={gene_id};support={support}\"\n",
    "    string = f\"{seqid}\\t{source}\\t{seq_type}\\t{start}\\t{stop}\\t{score}\\t{strand}\\t{phase}\\t{attributes};\\n\"\n",
    "    return string\n",
    "\n",
    "def transcript_string(gene_id, transcript_id, seqid, source, start, stop, score, strand):\n",
    "    seq_type = \"mRNA\"\n",
    "    phase = \".\"\n",
    "    attributes = f\"ID={transcript_id};Parent={gene_id}\"\n",
    "    string = f\"{seqid}\\t{source}\\t{seq_type}\\t{start}\\t{stop}\\t{score}\\t{strand}\\t{phase}\\t{attributes};\\n\"\n",
    "    return string\n",
    "\n",
    "def exon_string(transcript_id, exon_counter, seqid, source, start, stop, score, strand):\n",
    "    seq_type = \"exon\"\n",
    "    phase = \".\"\n",
    "    attributes = f\"ID={transcript_id}.exon{exon_counter};Parent={transcript_id}\"\n",
    "    exon_string = f\"{seqid}\\t{source}\\t{seq_type}\\t{start}\\t{stop}\\t{score}\\t{strand}\\t{phase}\\t{attributes};\\n\"\n",
    "    \n",
    "    seq_type = \"CDS\"\n",
    "    phase=\"0\"\n",
    "    attributes = f\"ID={transcript_id}.CDS{exon_counter};Parent={transcript_id}\"\n",
    "    CDS_string = f\"{seqid}\\t{source}\\t{seq_type}\\t{start}\\t{stop}\\t{score}\\t{strand}\\t{phase}\\t{attributes};\\n\"\n",
    "    \n",
    "    return exon_string + CDS_string\n",
    "\n",
    "def contained(gene, catalogue):\n",
    "    scaffold, start, stop = gene\n",
    "    for seen in catalogue:\n",
    "        if scaffold != seen[0]:\n",
    "            continue\n",
    "        if start >= seen[1] and stop <= seen[2]:\n",
    "            return True\n",
    "        if start == seen[1] or stop == seen[2]:\n",
    "            return True\n",
    "    return False"
   ]
  },
  {
   "cell_type": "code",
   "execution_count": 14,
   "metadata": {},
   "outputs": [
    {
     "name": "stderr",
     "output_type": "stream",
     "text": [
      "100%|██████████| 2686/2686 [02:12<00:00, 20.34it/s]\n"
     ]
    }
   ],
   "source": [
    "# test = overlap[overlap[\"instar3_match\"] == \"match262\"]\n",
    "problematic = []\n",
    "seen = []\n",
    "\n",
    "with open(\"/Volumes/scratch/pycnogonum/genome/draft/annot_merge/denovo_txomes/overlap_translated.gff3\", \"w\") as gff:\n",
    "    for i, match in enumerate(tqdm(gene_level_matches)):\n",
    "        gene = overlap[overlap[\"instar3_match\"] == match]\n",
    "        pseudochrom, start, stop = find_gene_boundaries(gene)\n",
    "        if contained([pseudochrom, start, stop], seen):\n",
    "            continue\n",
    "        seen.append([pseudochrom, start, stop])\n",
    "        parts = gene[gene[2] == \"cDNA_match_part\"].copy()\n",
    "        if parts.shape[0] == 0:\n",
    "            problematic.append(match)\n",
    "            continue\n",
    "        parts[\"boundary\"] = parts[3].astype(str) + \"-\" + parts[4].astype(str)\n",
    "        exons = parts.groupby(\"boundary\").apply(lambda x: find_exon_boundaries(x), include_groups=False)\n",
    "\n",
    "        seqid = gene[0].values[0]\n",
    "        gene_id = f\"at_DN{i+1:04d}\"\n",
    "        source = \"Trinity\"\n",
    "        strand = gene[6].values[0]\n",
    "        support = len(gene[\"target_dataset\"].unique())\n",
    "        gene_gff = gene_string(gene_id, start, stop, seqid, source, strand, support)\n",
    "        gff.write(gene_gff)\n",
    "        transcript_gff = transcript_string(gene_id, gene_id+\".t1\", seqid, source, start, stop, \".\", strand)\n",
    "        gff.write(transcript_gff)\n",
    "        for exon in exons:\n",
    "            exon_gff = exon_string(gene_id + \".t1\", i, seqid, source, exon[0], exon[1], \".\", strand)\n",
    "            gff.write(exon_gff)"
   ]
  },
  {
   "cell_type": "code",
   "execution_count": 15,
   "metadata": {},
   "outputs": [
    {
     "data": {
      "text/plain": [
       "['match20947',\n",
       " 'match31308',\n",
       " 'match31516',\n",
       " 'match31653',\n",
       " 'match32973',\n",
       " 'match36716']"
      ]
     },
     "execution_count": 15,
     "metadata": {},
     "output_type": "execute_result"
    }
   ],
   "source": [
    "problematic"
   ]
  },
  {
   "cell_type": "code",
   "execution_count": 16,
   "metadata": {},
   "outputs": [
    {
     "data": {
      "text/plain": [
       "780"
      ]
     },
     "execution_count": 16,
     "metadata": {},
     "output_type": "execute_result"
    }
   ],
   "source": [
    "len(seen)"
   ]
  }
 ],
 "metadata": {
  "kernelspec": {
   "display_name": "Python 3",
   "language": "python",
   "name": "python3"
  },
  "language_info": {
   "codemirror_mode": {
    "name": "ipython",
    "version": 3
   },
   "file_extension": ".py",
   "mimetype": "text/x-python",
   "name": "python",
   "nbconvert_exporter": "python",
   "pygments_lexer": "ipython3",
   "version": "3.12.4"
  }
 },
 "nbformat": 4,
 "nbformat_minor": 2
}
