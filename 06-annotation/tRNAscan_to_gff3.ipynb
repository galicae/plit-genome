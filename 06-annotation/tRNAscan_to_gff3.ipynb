{
 "cells": [
  {
   "cell_type": "markdown",
   "metadata": {},
   "source": [
    "# Converting tRNAscan-SE output to GFF3 format\n",
    "\n",
    "tRNAscan-SE produces multiple output files:\n",
    "\n",
    "- trnascan.bed: a BED file with the coordinates of the tRNAs\n",
    "- trnascan.fasta: a FASTA file with the sequences of the tRNAs (and their coordinates in the headers)\n",
    "- trnascan.stats: a human-readable file with summary statistics from the program output\n",
    "- trnascan.out: a human-readable table with lots of metadata for each tRNA\n",
    "\n",
    "For our resulting GFF3 file we would like to keep all of the predicted tRNAs that \n",
    "\n",
    "1. are not pseudogenes\n",
    "2. don't have introns\n",
    "3. don't overlap with any protein-coding genes\n",
    "\n",
    "Info for points 1 and 2 can be found in the `trnascan.out` file, while point 3 requires a separate\n",
    "GFF3 file with the protein-coding genes."
   ]
  },
  {
   "cell_type": "code",
   "execution_count": 1,
   "metadata": {},
   "outputs": [],
   "source": [
    "import pandas as pd"
   ]
  },
  {
   "cell_type": "code",
   "execution_count": 2,
   "metadata": {},
   "outputs": [],
   "source": [
    "scan_loc = \"/Volumes/scratch/pycnogonum/genome/draft/trnascan/\"\n",
    "out = scan_loc + 'trnascan.out'\n",
    "\n",
    "trna = pd.read_csv(out, sep='\\t', header=None, skiprows=3)\n",
    "trna.columns = ['seqname', 'tRNA', 'start', 'end', 'type', 'anti', 'intron_start', 'intron_end', 'inf score', 'origin', 'note']\n",
    "\n",
    "trna['id'] = trna['seqname'].str.strip() + '.tRNA' + trna['tRNA'].astype(str) + '-' + trna['type'] + trna['anti']\n",
    "trna.set_index('id', inplace=True)"
   ]
  },
  {
   "cell_type": "markdown",
   "metadata": {},
   "source": [
    "For point 3 we need to check the overlap of the tRNAs with the protein-coding genes. We can use\n",
    "`bedtools intersect` and the draft gff file:\n",
    "\n",
    "```bash\n",
    "$ bedtools intersect -wao -v -a trnascan.bed -b ../annot_merge/merged_sorted.gff3 > no_overlap.bed\n",
    "$ bedtools intersect -wao -S -a trnascan.bed -b ../annot_merge/merged_sorted.gff3 | grep -e \"-1\" -v > overlap_otherstrand.bed\n",
    "$ cat overlap_otherstrand.bed > keep.bed\n",
    "$ cat no_overlap.bed >> keep.bed\n",
    "$ cut -d\"        \" -f4,6 keep.bed | sort -u > keep_unique.txt # the delimiter should be a tab character; try ctrl+v tab\n",
    "```"
   ]
  },
  {
   "cell_type": "code",
   "execution_count": 3,
   "metadata": {},
   "outputs": [],
   "source": [
    "trna_ids = pd.read_table(scan_loc + \"keep_unique.txt\", header=None, index_col=0)\n",
    "trna_ids.columns = ['strand']"
   ]
  },
  {
   "cell_type": "code",
   "execution_count": 4,
   "metadata": {},
   "outputs": [],
   "source": [
    "keep = trna.join(trna_ids, how='inner')\n",
    "not_pseudo = keep['note'].fillna(\"\") == \"\"\n",
    "not_intron = (keep['intron_start'] == 0) & (keep['intron_end'] == 0)\n",
    "\n",
    "gff = keep[not_pseudo & not_intron]"
   ]
  },
  {
   "cell_type": "code",
   "execution_count": 5,
   "metadata": {},
   "outputs": [],
   "source": [
    "def gff_string(index, name, row):\n",
    "    seqid = row['seqname'].strip()\n",
    "    source = \"tRNAscan-SE\"\n",
    "    seq_type = \"tRNA\"\n",
    "    start = min(row['start'], row['end'])\n",
    "    stop = max(row['start'], row['end'])\n",
    "    score = \".\"\n",
    "    strand = row['strand']\n",
    "    phase = \".\"\n",
    "    # :Gly-GCC-1-1\n",
    "    attributes = f\"ID=tRNA{index+1};gene_id={name};name=tRNA:{row['type']}-{row['anti']};score={row['inf score']}\"\n",
    "    gene = f\"{seqid}\\t{source}\\tgene\\t{start}\\t{stop}\\t{score}\\t{strand}\\t{phase}\\t{attributes};\\n\"\n",
    "    attributes = f\"ID=tRNAscan{index+1};name=tRNA:{row['type']}-{row['anti']}\"\n",
    "    trna = f\"{seqid}\\t{source}\\ttRNA\\t{start}\\t{stop}\\t{score}\\t{strand}\\t{phase}\\t{attributes};\\n\"\n",
    "    return gene + trna"
   ]
  },
  {
   "cell_type": "code",
   "execution_count": 6,
   "metadata": {},
   "outputs": [],
   "source": [
    "with open(scan_loc + 'trnascan.gff3', 'w') as f:\n",
    "    for i, (name, row) in enumerate(gff.iterrows()):\n",
    "        f.write(gff_string(i, name, row))"
   ]
  }
 ],
 "metadata": {
  "kernelspec": {
   "display_name": "ascc24",
   "language": "python",
   "name": "python3"
  },
  "language_info": {
   "codemirror_mode": {
    "name": "ipython",
    "version": 3
   },
   "file_extension": ".py",
   "mimetype": "text/x-python",
   "name": "python",
   "nbconvert_exporter": "python",
   "pygments_lexer": "ipython3",
   "version": "3.9.19"
  }
 },
 "nbformat": 4,
 "nbformat_minor": 2
}
