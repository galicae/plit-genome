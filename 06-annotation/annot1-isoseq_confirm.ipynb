{
 "cells": [
  {
   "cell_type": "markdown",
   "metadata": {},
   "source": [
    "# Confirming gene models with isoform-level RNA-seq data\n",
    "\n",
    "## Motivation\n",
    "\n",
    "Our gene prediction with BRAKER3 produced a low number of gene models (~11.5k). We suspect this\n",
    "might be because GeneMark-ET/StringTie are too aggressive with exons/genes that are close to each\n",
    "other, merging them and messing up the gene models. We will use the isoform-level RNA-seq data to\n",
    "confirm some of the gene models."
   ]
  },
  {
   "cell_type": "code",
   "execution_count": 1,
   "metadata": {},
   "outputs": [],
   "source": [
    "import numpy as np\n",
    "import pandas as pd\n",
    "\n",
    "from tqdm import tqdm"
   ]
  },
  {
   "cell_type": "markdown",
   "metadata": {},
   "source": [
    "I extracted all transcript lines from the corresponding gff/gtf files and used bedtools to intersect\n",
    "them:\n",
    "\n",
    "```bash\n",
    "$ ISOSEQ=/lisc/scratch/zoology/pycnogonum/transcriptome/isoseq/isoseq_confirmed.gff\n",
    "$ BRAKER=/lisc/scratch/zoology/pycnogonum/genome/draft/braker/braker/braker_proposed.gtf\n",
    "$ bedtools intersect -wao -b $ISOSEQ -a $BRAKER > brak_iso.bed\n",
    "```"
   ]
  },
  {
   "cell_type": "code",
   "execution_count": 2,
   "metadata": {},
   "outputs": [],
   "source": [
    "gtf = [\"seqname\", \"source\", \"feature\", \"start\", \"end\", \"score\", \"strand\", \"frame\", \"attributes\"]\n",
    "\n",
    "# iso2bra = pd.read_csv(\"/Volumes/scratch/pycnogonum/genome/draft/annot_merge/iso_brak.bed\", sep=\"\\t\", header=None)\n",
    "# iso2bra.columns = [\"iso_\" + x for x in gtf] + [\"bra_\" + x for x in gtf] + [\"overlap\"]\n",
    "# iso2bra[\"iso_gene\"] = iso2bra[\"iso_attributes\"].str.extract(r'gene_id \"(.*?)\";')\n",
    "# iso2bra[\"bra_gene\"] = iso2bra[\"bra_attributes\"].str.split(\"\\.\").str[0]\n",
    "# iso2bra[\"bra_gene\"] = iso2bra[\"bra_gene\"].replace(\"\", np.nan)\n",
    "\n",
    "bra2iso = pd.read_csv(\"/Volumes/scratch/pycnogonum/genome/draft/annot_merge/brak_iso.bed\", sep=\"\\t\", header=None)\n",
    "bra2iso.columns = [\"bra_\" + x for x in gtf] + [\"iso_\" + x for x in gtf] + [\"overlap\"]\n",
    "bra2iso[\"bra_gene\"] = bra2iso[\"bra_attributes\"].str.split(\".\").str[0]\n",
    "bra2iso[\"iso_gene\"] = bra2iso[\"iso_attributes\"].str.extract(r'gene_id \"(.*?)\";')"
   ]
  },
  {
   "cell_type": "markdown",
   "metadata": {},
   "source": [
    "Now to find overlaps:"
   ]
  },
  {
   "cell_type": "code",
   "execution_count": 3,
   "metadata": {},
   "outputs": [],
   "source": [
    "def contained(df, a_start=\"bra_start\", a_end=\"bra_end\", b_start=\"iso_start\", b_end=\"iso_end\"):\n",
    "    \"\"\"Checks if sequence A is completely contained within sequence B or vice versa.\n",
    "\n",
    "    Parameters\n",
    "    ----------\n",
    "    df : pd.DataFrame\n",
    "        A dataframe of a bedtools intersect file.\n",
    "    a_start : str, optional\n",
    "        the start position of sequence A, by default \"bra_start\"\n",
    "    a_end : str, optional\n",
    "        the end position of sequence B, by default \"bra_end\"\n",
    "    b_start : str, optional\n",
    "        The start position of sequence B, by default \"iso_start\"\n",
    "    b_end : str, optional\n",
    "        the end position of sequence B, by default \"iso_end\"\n",
    "\n",
    "    Returns\n",
    "    -------\n",
    "    bool\n",
    "        returns True if the sequence is contained, False otherwise\n",
    "    \"\"\"\n",
    "    if df[\"bra_strand\"] != df[\"iso_strand\"]:\n",
    "        return False # make sure that we are comparing genes on the same strand\n",
    "    if df[b_start] < 0 or df[b_end] < 0 or df[a_start] < 0 or df[a_end] < 0:\n",
    "        return False\n",
    "    # first check if the braker gene is completely contained within the isoseq one\n",
    "    if df[a_start] >= df[b_start] and df[a_end] <= df[b_end]:\n",
    "        return True\n",
    "    # then check if the braker gene completely contains the isoseq one\n",
    "    if df[a_start] <= df[b_start] and df[a_end] >= df[b_end]:\n",
    "        return True\n",
    "    return False"
   ]
  },
  {
   "cell_type": "code",
   "execution_count": 4,
   "metadata": {},
   "outputs": [],
   "source": [
    "genes = bra2iso.groupby(\"bra_gene\")"
   ]
  },
  {
   "cell_type": "code",
   "execution_count": 5,
   "metadata": {},
   "outputs": [],
   "source": [
    "def calc_overlap(df):\n",
    "    bra_len = df.iloc[0][\"bra_end\"] - df.iloc[0][\"bra_start\"]\n",
    "    # print(bra_len)\n",
    "    seq = np.zeros(bra_len, dtype=bool)\n",
    "    for i, transcript in df.iterrows():\n",
    "        start = transcript[\"iso_start\"] - transcript[\"bra_start\"]\n",
    "        start = np.max((0, start))\n",
    "        end = transcript[\"iso_end\"] - transcript[\"bra_start\"]\n",
    "        # print(end, len(seq))\n",
    "        end = np.min([bra_len, end])\n",
    "        seq[start:end] = True\n",
    "    return np.sum(seq) / bra_len"
   ]
  },
  {
   "cell_type": "code",
   "execution_count": 6,
   "metadata": {},
   "outputs": [
    {
     "name": "stderr",
     "output_type": "stream",
     "text": [
      "100%|██████████| 11451/11451 [00:03<00:00, 2913.12it/s]\n"
     ]
    }
   ],
   "source": [
    "braker_unique = []\n",
    "significant = []\n",
    "unknown = []\n",
    "truncate = []\n",
    "\n",
    "\n",
    "for gene in tqdm(genes.groups):\n",
    "    try:\n",
    "        transcripts = genes.get_group(gene)\n",
    "    except KeyError:\n",
    "        unknown.append(gene)\n",
    "        continue\n",
    "    # first see how many candidate ISO-seq genes this BRAKER gene overlaps with\n",
    "    # if there is zero, then it means no possible corresponding ISO-seq gene was found\n",
    "    no_iso = transcripts.groupby(\"iso_gene\").size().shape[0] # how many ISO-seq transcripts match this BRAKER gene?\n",
    "    if no_iso == 0: \n",
    "        braker_unique.append(gene)\n",
    "        continue\n",
    "    \n",
    "    # if there is one it means we have an 1-to-1 correspondence\n",
    "    if no_iso == 1:\n",
    "        # try to verify that most BRAKER isoforms are contained within the ISO-seq isoforms\n",
    "        # (or vice versa)\n",
    "        no_contained = transcripts.apply(contained, axis=1).sum()\n",
    "        if no_contained / transcripts.shape[0] >= 0.4:\n",
    "            significant.append(gene)\n",
    "            continue\n",
    "\n",
    "        # test if the ISO-seq isoforms cumulatively cover at least 50% of the BRAKER gene\n",
    "        total_overlap = transcripts.groupby(\"bra_attributes\").apply(calc_overlap, include_groups=False)\n",
    "        if np.mean(total_overlap) >= 0.5:\n",
    "            significant.append(gene)\n",
    "            continue\n",
    "\n",
    "    # if we have arrived here, all else failed and this gene needs to go for manual curation\n",
    "    unknown.append(gene)"
   ]
  },
  {
   "cell_type": "code",
   "execution_count": 7,
   "metadata": {},
   "outputs": [
    {
     "data": {
      "text/plain": [
       "(7591, 3596, 264, np.int64(11451))"
      ]
     },
     "execution_count": 7,
     "metadata": {},
     "output_type": "execute_result"
    }
   ],
   "source": [
    "len(significant), len(braker_unique), len(unknown), np.sum([len(significant), len(braker_unique), len(unknown)])"
   ]
  },
  {
   "cell_type": "markdown",
   "metadata": {},
   "source": [
    "At this point the strategy should be to copy the ISO-seq and \"braker_unique\" gene models from their\n",
    "respective GTF files to a new, merged one. This should already take us from the 11,451 BRAKER gene\n",
    "models to 8,904 + 3,442 = 12,346 gene models. We can then screen the unknown modules further."
   ]
  },
  {
   "cell_type": "code",
   "execution_count": 8,
   "metadata": {},
   "outputs": [],
   "source": [
    "isoseq_loc = \"/Volumes/scratch/pycnogonum/transcriptome/isoseq/collapsed.gff\"\n",
    "braker_loc = \"/Volumes/scratch/pycnogonum/genome/draft/braker/braker/braker.gtf\""
   ]
  },
  {
   "cell_type": "code",
   "execution_count": 17,
   "metadata": {},
   "outputs": [],
   "source": [
    "def gene_string(gene_id, start, stop, last_line):\n",
    "    chunks = last_line.split(\"\\t\")\n",
    "\n",
    "    seqid = chunks[0]\n",
    "    source = chunks[1]\n",
    "    seq_type = \"gene\"\n",
    "    score = \".\"\n",
    "    strand = chunks[6]\n",
    "    phase = \".\"\n",
    "    attributes = f\"ID={gene_id};gene_id={gene_id};\"\n",
    "    string = f\"{seqid}\\t{source}\\t{seq_type}\\t{start}\\t{stop}\\t{score}\\t{strand}\\t{phase}\\t{attributes};\\n\"\n",
    "    return string\n",
    "\n",
    "def transcript_string(gene_id, transcript_id, line):\n",
    "    chunks = line.split(\"\\t\")\n",
    "\n",
    "    seqid = chunks[0]\n",
    "    source = chunks[1]\n",
    "    seq_type = \"mRNA\"\n",
    "    start = chunks[3]\n",
    "    stop = chunks[4]\n",
    "    score = chunks[5]\n",
    "    strand = chunks[6]\n",
    "    phase = \".\"\n",
    "    attributes = f\"ID={transcript_id};Parent={gene_id}\"\n",
    "    string = f\"{seqid}\\t{source}\\t{seq_type}\\t{start}\\t{stop}\\t{score}\\t{strand}\\t{phase}\\t{attributes};\\n\"\n",
    "    return string\n",
    "\n",
    "def exon_string(transcript_id, line, exon_counter):\n",
    "    chunks = line.split(\"\\t\")\n",
    "\n",
    "    seqid = chunks[0]\n",
    "    source = chunks[1]\n",
    "    start = chunks[3]\n",
    "    stop = chunks[4]\n",
    "    score = chunks[5]\n",
    "    strand = chunks[6]\n",
    "\n",
    "    seq_type = \"exon\"\n",
    "    phase = \".\"\n",
    "    attributes = f\"ID={transcript_id}.exon{exon_counter};Parent={transcript_id}\"\n",
    "    exon_string = f\"{seqid}\\t{source}\\t{seq_type}\\t{start}\\t{stop}\\t{score}\\t{strand}\\t{phase}\\t{attributes};\\n\"\n",
    "    \n",
    "    seq_type = \"CDS\"\n",
    "    phase=\"0\"\n",
    "    attributes = f\"ID={transcript_id}.CDS{exon_counter};Parent={transcript_id}\"\n",
    "    CDS_string = f\"{seqid}\\t{source}\\t{seq_type}\\t{start}\\t{stop}\\t{score}\\t{strand}\\t{phase}\\t{attributes};\\n\"\n",
    "    \n",
    "    return exon_string + CDS_string"
   ]
  },
  {
   "cell_type": "code",
   "execution_count": 18,
   "metadata": {},
   "outputs": [],
   "source": [
    "def write_gene(current_gene_id, gene_lines, edit, start, end):\n",
    "    chunks = gene_lines[0].split(\"\\t\")\n",
    "    # write the gene line first\n",
    "    gene = gene_string(current_gene_id, start, end, gene_lines[0])\n",
    "    edit.write(gene)\n",
    "    # now write each of the transcripts\n",
    "    exon_counter = 1\n",
    "    for l in gene_lines:\n",
    "        chunks = l.split(\"\\t\")\n",
    "        if chunks[2] == \"transcript\":\n",
    "            transcript_id = chunks[8].split(\";\")[1].split(\" \")[2][1:-1]\n",
    "            transcript = transcript_string(current_gene_id, transcript_id, l)\n",
    "            edit.write(transcript)\n",
    "        else:\n",
    "            exon = exon_string(transcript_id, l, exon_counter)\n",
    "            edit.write(exon)\n",
    "            exon_counter += 1\n",
    "\n",
    "    edit.write(\"###\\n\")"
   ]
  },
  {
   "cell_type": "code",
   "execution_count": 11,
   "metadata": {},
   "outputs": [],
   "source": [
    "gene_lines = []\n",
    "current_gene_id = None\n",
    "start = np.inf\n",
    "end = 0\n",
    "\n",
    "with open(\"/Volumes/scratch/pycnogonum/transcriptome/isoseq/collapsed.gff\", \"r\") as isoseq:\n",
    "    with open(\"/Volumes/scratch/pycnogonum/genome/draft/annot_merge/isoseq.gff\", \"w\") as edit:\n",
    "        for line in isoseq:\n",
    "            if line.startswith(\"#\"):\n",
    "                edit.write(line)\n",
    "                continue\n",
    "            chunks = line.split(\"\\t\")\n",
    "            entry_type = chunks[2]\n",
    "            # print(line)\n",
    "            if entry_type == \"transcript\":\n",
    "                gene_id = chunks[8].split(\";\")[0].split(\" \")[1][1:-1]\n",
    "                if gene_id != current_gene_id:\n",
    "                    if current_gene_id is None: # first gene\n",
    "                        current_gene_id = gene_id\n",
    "                        gene_lines.append(line)\n",
    "                        continue\n",
    "                    # new gene! Write it out:\n",
    "                    write_gene(current_gene_id, gene_lines, edit, start, end)\n",
    "                    # reset the gene\n",
    "                    current_gene_id = gene_id\n",
    "                    gene_lines = []\n",
    "                    start = int(chunks[3])\n",
    "                    end = int(chunks[4])\n",
    "                else:\n",
    "                    start = min(start, int(chunks[3]))\n",
    "                    end = max(end, int(chunks[4]))\n",
    "            gene_lines.append(line)\n",
    "        # write last gene\n",
    "        write_gene(current_gene_id, gene_lines, edit, start, end)"
   ]
  },
  {
   "cell_type": "code",
   "execution_count": 19,
   "metadata": {},
   "outputs": [],
   "source": [
    "gene_lines = []\n",
    "current_gene_id = None\n",
    "\n",
    "with open(\"/Volumes/scratch/pycnogonum/genome/draft/braker/braker/braker.gff3\", \"r\") as braker:\n",
    "    with open(\"/Volumes/scratch/pycnogonum/genome/draft/annot_merge/braker.gff\", \"w\") as edit:\n",
    "        for line in braker:\n",
    "            chunks = line.split(\"\\t\")\n",
    "            entry_type = chunks[2]\n",
    "\n",
    "            if entry_type in [\"start_codon\", \"stop_codon\", \"intron\"]:\n",
    "                continue\n",
    "\n",
    "            if entry_type == \"gene\":\n",
    "                current_gene_id = chunks[8].split(\";\")[0].split(\"=\")[1]\n",
    "                line = line.rstrip() + \"gene_id=\" + current_gene_id + \";\\n\"\n",
    "            \n",
    "            if current_gene_id in braker_unique:\n",
    "                edit.write(line)"
   ]
  },
  {
   "cell_type": "code",
   "execution_count": 13,
   "metadata": {},
   "outputs": [],
   "source": [
    "import matplotlib.pyplot as plt"
   ]
  },
  {
   "cell_type": "code",
   "execution_count": 14,
   "metadata": {},
   "outputs": [],
   "source": [
    "def plot_overlap(df):\n",
    "    # plot the overlapping regions as straight lines, color by transcript ID\n",
    "    start = np.min((df[\"bra_start\"].min(), df[\"iso_start\"].min()))\n",
    "    end = np.max((df[\"bra_end\"].max(), df[\"iso_end\"].max()))\n",
    "\n",
    "    fig, ax = plt.subplots()\n",
    "\n",
    "    # for i, transcript in df.iterrows():\n",
    "    #     ax.hlines(i*2, transcript[\"iso_start\"], transcript[\"iso_end\"], label=transcript[\"iso_gene\"])\n",
    "    #     ax.hlines(i*2+1, transcript[\"bra_start\"], transcript[\"bra_end\"], label=transcript[\"bra_gene\"])\n",
    "    ax.set_xlim(start-1000, end+1000)\n",
    "    ax.legend()"
   ]
  },
  {
   "cell_type": "code",
   "execution_count": 15,
   "metadata": {},
   "outputs": [],
   "source": [
    "# a function that plots all the unique transcripts in a dataframe, coloring them by gene ID\n",
    "def plot_overlap(df):\n",
    "    # first find out the minimum start and maximum end positions of all the real BRAKER genes\n",
    "    # (i.e. not the -1 values)\n",
    "    bra_start_min = np.min(df[\"bra_start\"][df[\"bra_start\"] > 0])\n",
    "    bra_end_max = np.max(df[\"bra_end\"][df[\"bra_end\"] > 0])\n",
    "    # now do the same for the iso-seq genes\n",
    "    iso_start_min = np.min(df[\"iso_start\"][df[\"iso_start\"] > 0])\n",
    "    iso_end_max = np.max(df[\"iso_end\"][df[\"iso_end\"] > 0])\n",
    "    # the plot should start 1000 bp before the minimum start and end 1000 bp after the maximum end\n",
    "    start = np.min((bra_start_min, iso_start_min)) - 1000\n",
    "    end = np.max((bra_end_max, iso_end_max)) + 1000\n",
    "\n",
    "    fig, ax = plt.subplots()\n",
    "\n",
    "    # get a list of all the unique gene IDs\n",
    "    gene_list = np.unique(df[\"iso_gene\"].tolist() + df[\"bra_gene\"].tolist())\n",
    "    # generate a color map for the gene IDs - this should be always less than 10, so we can take\n",
    "    # the Set1 colormap\n",
    "    colors = plt.cm.Set1(np.linspace(0, 1, len(gene_list)))\n",
    "    # create a dictionary that maps gene IDs to colors\n",
    "    cmap = dict(zip(gene_list, colors))\n",
    "\n",
    "    # each transcript should be a straight line, colored by the gene ID. Let's do BRAKER first.\n",
    "    braker = df.groupby(\"bra_attributes\").first()\n",
    "    for i, row in braker.iterrows():\n",
    "        ax.hlines(i, row[\"bra_start\"], row[\"bra_end\"], color=cmap[row[\"bra_gene\"]])\n",
    "\n",
    "    # now do the same for the iso-seq genes\n",
    "    iso = df.groupby(\"iso_attributes\").first()\n",
    "    for i, row in iso.iterrows():\n",
    "        try:\n",
    "            ax.hlines(i, row[\"iso_start\"], row[\"iso_end\"], color=cmap[row[\"iso_gene\"]])\n",
    "        except KeyError:\n",
    "            # there might be some empty IDs here if there is no overlap for this transcript\n",
    "            # ax.hlines(i, start, end, linestyles=\"dashed\", color=\"black\")\n",
    "            continue\n",
    "    \n",
    "    # set the limits of the plot\n",
    "    ax.set_xlim(start, end)\n",
    "    # keep track of what chromosome we're in in case we want to go to the genome browser\n",
    "    ax.set_title(f\"{df['bra_seqname'].iloc[0]}\")\n",
    "    # save the plot for manual inspection\n",
    "    plt.savefig(f\"figs/{df['bra_gene'].iloc[0]}.png\")\n",
    "    # close plot to save memory\n",
    "    plt.close()"
   ]
  },
  {
   "cell_type": "code",
   "execution_count": 16,
   "metadata": {},
   "outputs": [
    {
     "name": "stderr",
     "output_type": "stream",
     "text": [
      "100%|██████████| 264/264 [00:14<00:00, 18.59it/s]\n"
     ]
    }
   ],
   "source": [
    "for gene in tqdm(unknown):\n",
    "    keep = bra2iso[\"bra_gene\"] == gene\n",
    "    plot_overlap(bra2iso[keep])"
   ]
  },
  {
   "cell_type": "markdown",
   "metadata": {},
   "source": [
    "Manual inspection of the ISO-seq/BRAKER overlap for these 264 genes identifies another 49 that need\n",
    "further examination. Those were aligned against uniref90 to check whether the BRAKER portions\n",
    "correspond to real genes or are spurious."
   ]
  }
 ],
 "metadata": {
  "kernelspec": {
   "display_name": "ascc24",
   "language": "python",
   "name": "python3"
  },
  "language_info": {
   "codemirror_mode": {
    "name": "ipython",
    "version": 3
   },
   "file_extension": ".py",
   "mimetype": "text/x-python",
   "name": "python",
   "nbconvert_exporter": "python",
   "pygments_lexer": "ipython3",
   "version": "3.12.4"
  }
 },
 "nbformat": 4,
 "nbformat_minor": 2
}
