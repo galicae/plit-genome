{
 "cells": [
  {
   "cell_type": "markdown",
   "metadata": {},
   "source": [
    "# Visualising the HRO cluster\n",
    "\n",
    "## finding HRO gene candidates\n",
    "\n",
    "We compiled a list of homeobox sequences from genes in the HRO family from the [Aase-Remedios _et\n",
    "al._ (2023)](https://doi.org/10.1093/molbev/msad239) analysis of the spider Homeobox gene\n",
    "repertoire. We used this list to scan against the _P. litorale_ draft genome using `mmseqs`:\n",
    "\n",
    "```bash\n",
    "cd /lisc/scratch/zoology/pycnogonum/genome/draft/hro\n",
    "module load mmseqs2\n",
    "M8FORMAT=\"query,target,fident,alnlen,mismatch,gapopen,qstart,qend,tstart,tend,evalue,bits,qlen\"\n",
    "mmseqs easy-search hro_chelicerates.fa ../draft.fasta hro_genomic.m8 tmp --format-output $M8FORMAT --threads 4\n",
    "```"
   ]
  },
  {
   "cell_type": "markdown",
   "metadata": {},
   "source": [
    "First, we'll have to read the GFF file so that we can locate the loci that overlap with our genomic\n",
    "hits."
   ]
  },
  {
   "cell_type": "code",
   "execution_count": 1,
   "metadata": {},
   "outputs": [],
   "source": [
    "from tqdm import tqdm\n",
    "\n",
    "import pandas as pd\n",
    "import numpy as np\n",
    "\n",
    "from sklearn.cluster import DBSCAN\n",
    "from sklearn.datasets import make_blobs\n",
    "\n",
    "from matplotlib import pyplot as plt\n",
    "from matplotlib.patches import ConnectionPatch"
   ]
  },
  {
   "cell_type": "code",
   "execution_count": 2,
   "metadata": {},
   "outputs": [],
   "source": [
    "def read_gff(loc):\n",
    "    gff = pd.read_csv(loc, sep=\"\\t\", header=None, skiprows=4)\n",
    "    gff_columns = ['seqid', 'source', 'type', 'start', 'end', 'score', 'strand', 'phase', 'attributes']\n",
    "    gff.columns = gff_columns\n",
    "    return gff\n",
    "\n",
    "# read file, name columns\n",
    "def read_aln(m8, id_sep=None):\n",
    "    hro = pd.read_csv(m8, sep=\"\\t\", header=None)\n",
    "    m8_columns = ['query', 'target', 'seq_id', 'ali_len', 'no_mism', 'no_go',\n",
    "                'q_start', 'q_end', 't_start', 't_end', 'eval', 'bit', 'qlen']\n",
    "    hro.columns = m8_columns\n",
    "    # trim the query to just the ID\n",
    "    if id_sep is not None:\n",
    "        hro[\"query\"] = hro[\"query\"].str.split(id_sep).str[1]\n",
    "    return hro"
   ]
  },
  {
   "cell_type": "code",
   "execution_count": 3,
   "metadata": {},
   "outputs": [],
   "source": [
    "gff_loc = \"/Volumes/project/pycnogonum/paper/zenodo/results/merged_sorted_named_dedup_flagged.gff3\"\n",
    "tmp = read_gff(gff_loc)\n",
    "gff = tmp[tmp['type'] == 'gene'].copy()\n",
    "gff['gene'] = gff['attributes'].str.split(\"ID=\").str[1].str.split(\";\").str[0]\n",
    "del tmp"
   ]
  },
  {
   "cell_type": "code",
   "execution_count": 4,
   "metadata": {},
   "outputs": [],
   "source": [
    "hro = read_aln('/Volumes/scratch/pycnogonum/genome/draft/hro/hro_genomic.m8')"
   ]
  },
  {
   "cell_type": "code",
   "execution_count": 5,
   "metadata": {},
   "outputs": [],
   "source": [
    "hro['species'] = hro['query'].str.split(\"_\").str[:2].str.join(\" \")\n",
    "hro['symbol'] = hro['query'].str.split(\"_\").str[2:].str.join(\"_\")"
   ]
  },
  {
   "cell_type": "code",
   "execution_count": 6,
   "metadata": {},
   "outputs": [],
   "source": [
    "def hit_to_locus(hit, gff):\n",
    "    same_chrom = gff['seqid'] == hit['target']\n",
    "    within_borders = (gff['start'] <= hit['t_start']) & (gff['end'] >= hit['t_end'])\n",
    "\n",
    "    overlap = gff[same_chrom & within_borders]\n",
    "    return overlap['gene'].values[0]"
   ]
  },
  {
   "cell_type": "code",
   "execution_count": 7,
   "metadata": {},
   "outputs": [],
   "source": [
    "hits = hro[hro['eval'] < 1e-20].copy()\n",
    "hits['gene'] = hits.apply(hit_to_locus, axis=1, gff=gff)"
   ]
  },
  {
   "cell_type": "code",
   "execution_count": 8,
   "metadata": {},
   "outputs": [],
   "source": [
    "candidates = hits['gene'].unique()"
   ]
  },
  {
   "cell_type": "code",
   "execution_count": 9,
   "metadata": {},
   "outputs": [],
   "source": [
    "plit_peptides = {}\n",
    "with open('/Volumes/project/pycnogonum/genome/draft/transcripts.fa.transdecoder.pep', 'r') as f:\n",
    "    lines = f.readlines()\n",
    "    for i, line in enumerate(lines):\n",
    "        if line.startswith(\">\"):\n",
    "            gene = line.split(\" \")[0][1:]\n",
    "            plit_peptides[gene] = \"\"\n",
    "        else:\n",
    "            plit_peptides[gene] += line.strip()"
   ]
  },
  {
   "cell_type": "code",
   "execution_count": 10,
   "metadata": {},
   "outputs": [],
   "source": [
    "candidate_sequences = {}\n",
    "for gene in plit_peptides:\n",
    "    for c in candidates:\n",
    "        if c in gene:\n",
    "            candidate_sequences[gene] = plit_peptides[gene]"
   ]
  },
  {
   "cell_type": "code",
   "execution_count": 11,
   "metadata": {},
   "outputs": [],
   "source": [
    "with open('/Volumes/scratch/pycnogonum/genome/draft/hro/hro_candidates.fa', 'w') as f:\n",
    "    for gene, seq in candidate_sequences.items():\n",
    "        f.write(f\">{gene}\\n{seq}\\n\")"
   ]
  },
  {
   "cell_type": "markdown",
   "metadata": {},
   "source": [
    "Now we can concatenate all the sequences and align them.\n",
    "\n",
    "```bash\n",
    "cat hro_chelicerates.fa > hro.fa\n",
    "cat hro_candidates.fa >> hro.fa\n",
    "```\n",
    "\n",
    "Before continuing, check whether the sequences were concatenated correctly - if there is no newline\n",
    "character at the end of `hro.fa`, the header of the first candidate sequence will be appended to\n",
    "the last sequence of the `hro_chelicerates.fa` file.\n",
    "\n",
    "Additionally, we need to check for synonyms here; where I found the same combination of species and\n",
    "gene name, I collapsed identical sequences. Where this was not given, I appended lowercase \"i\"s to\n",
    "the names in order to keep the additional variation.\n",
    "\n",
    "First, quick-and-dirty alignment so we can just cut out the homeodomain regions from the _P.\n",
    "litorale_ sequences:\n",
    "\n",
    "```bash\n",
    "mafft --thread 4 hro.fa > hro_aligned.fasta\n",
    "```\n",
    "\n",
    "Now we can extract the homeodomain regions. This was done manually in Jalview, by deleting columns\n",
    "left and right of the homeobox region. Some _P. litorale_ sequences that broke the homeobox in the\n",
    "alignment (g8288.t1.p1, g8288.t2.p1, g8457.t1.p1, g8458.t1.p1, r2_g828.t2.p1, g8280.t1.p1,\n",
    "g8459.t1.p1) were extracted and BLASTed against NCBI `nr` as a sanity check. All of them returned\n",
    "hits to non-homeobox genes (potassium channel, low e-value hypothetical proteins, RNA polymerase,\n",
    "granulin, low-quality solute carrier family, no good hit, respectively), and were therefore removed\n",
    "from the alignment.\n",
    "\n",
    "The resulting trimmed alignment was saved as `homeobox.fasta` and re-aligned with MAFFT in L-INS-i\n",
    "mode (Probably most accurate, a little bit slower):\n",
    "\n",
    "```bash\n",
    "mafft --thread 4 --maxiterate 1000 --localpair homeobox.fasta > homeobox_aligned.fasta\n",
    "```\n",
    "\n",
    "The resulting alignment was input to IQTREE2.\n",
    "\n",
    "```bash\n",
    "module load iqtree\n",
    "/usr/bin/time iqtree2 -s ./homeobox_aligned.fasta -B 1000 -T 4\n",
    "```\n",
    "\n",
    "The resulting tree was visualised in treeViewer and rooted manually to separate the gene families.\n",
    "The following assignments were retrieved:"
   ]
  },
  {
   "cell_type": "code",
   "execution_count": 13,
   "metadata": {},
   "outputs": [
    {
     "data": {
      "text/html": [
       "<div>\n",
       "<style scoped>\n",
       "    .dataframe tbody tr th:only-of-type {\n",
       "        vertical-align: middle;\n",
       "    }\n",
       "\n",
       "    .dataframe tbody tr th {\n",
       "        vertical-align: top;\n",
       "    }\n",
       "\n",
       "    .dataframe thead th {\n",
       "        text-align: right;\n",
       "    }\n",
       "</style>\n",
       "<table border=\"1\" class=\"dataframe\">\n",
       "  <thead>\n",
       "    <tr style=\"text-align: right;\">\n",
       "      <th></th>\n",
       "      <th>seqid</th>\n",
       "      <th>source</th>\n",
       "      <th>type</th>\n",
       "      <th>start</th>\n",
       "      <th>end</th>\n",
       "      <th>score</th>\n",
       "      <th>strand</th>\n",
       "      <th>phase</th>\n",
       "      <th>attributes</th>\n",
       "      <th>name</th>\n",
       "    </tr>\n",
       "    <tr>\n",
       "      <th>gene</th>\n",
       "      <th></th>\n",
       "      <th></th>\n",
       "      <th></th>\n",
       "      <th></th>\n",
       "      <th></th>\n",
       "      <th></th>\n",
       "      <th></th>\n",
       "      <th></th>\n",
       "      <th></th>\n",
       "      <th></th>\n",
       "    </tr>\n",
       "  </thead>\n",
       "  <tbody>\n",
       "    <tr>\n",
       "      <th>g11023</th>\n",
       "      <td>pseudochrom_9</td>\n",
       "      <td>AUGUSTUS</td>\n",
       "      <td>gene</td>\n",
       "      <td>5390926</td>\n",
       "      <td>5425657</td>\n",
       "      <td>.</td>\n",
       "      <td>+</td>\n",
       "      <td>.</td>\n",
       "      <td>ID=g11023;function=sequence-specific DNA bindi...</td>\n",
       "      <td>Otp</td>\n",
       "    </tr>\n",
       "    <tr>\n",
       "      <th>g828</th>\n",
       "      <td>pseudochrom_13</td>\n",
       "      <td>AUGUSTUS</td>\n",
       "      <td>gene</td>\n",
       "      <td>2323194</td>\n",
       "      <td>2375852</td>\n",
       "      <td>.</td>\n",
       "      <td>-</td>\n",
       "      <td>.</td>\n",
       "      <td>ID=g828;function=sequence-specific DNA binding...</td>\n",
       "      <td>Rx</td>\n",
       "    </tr>\n",
       "    <tr>\n",
       "      <th>g845</th>\n",
       "      <td>pseudochrom_13</td>\n",
       "      <td>AUGUSTUS</td>\n",
       "      <td>gene</td>\n",
       "      <td>2972219</td>\n",
       "      <td>3044387</td>\n",
       "      <td>.</td>\n",
       "      <td>+</td>\n",
       "      <td>.</td>\n",
       "      <td>ID=g845;function=binding. It is involved in th...</td>\n",
       "      <td>Isl</td>\n",
       "    </tr>\n",
       "  </tbody>\n",
       "</table>\n",
       "</div>"
      ],
      "text/plain": [
       "                 seqid    source  type    start      end score strand phase  \\\n",
       "gene                                                                          \n",
       "g11023   pseudochrom_9  AUGUSTUS  gene  5390926  5425657     .      +     .   \n",
       "g828    pseudochrom_13  AUGUSTUS  gene  2323194  2375852     .      -     .   \n",
       "g845    pseudochrom_13  AUGUSTUS  gene  2972219  3044387     .      +     .   \n",
       "\n",
       "                                               attributes name  \n",
       "gene                                                            \n",
       "g11023  ID=g11023;function=sequence-specific DNA bindi...  Otp  \n",
       "g828    ID=g828;function=sequence-specific DNA binding...   Rx  \n",
       "g845    ID=g845;function=binding. It is involved in th...  Isl  "
      ]
     },
     "execution_count": 13,
     "metadata": {},
     "output_type": "execute_result"
    }
   ],
   "source": [
    "names = {\n",
    "    'g11023': 'Otp',\n",
    "    'g828': 'Rx',\n",
    "    'g845': 'Isl'\n",
    "}\n",
    "\n",
    "hro_cluster = gff.set_index('gene').loc[names.keys()]\n",
    "hro_cluster['name'] = hro_cluster.index.map(names)\n",
    "hro_cluster.sort_values(['seqid', 'start'], ascending=[False, True])"
   ]
  }
 ],
 "metadata": {
  "kernelspec": {
   "display_name": "ascc24",
   "language": "python",
   "name": "python3"
  },
  "language_info": {
   "codemirror_mode": {
    "name": "ipython",
    "version": 3
   },
   "file_extension": ".py",
   "mimetype": "text/x-python",
   "name": "python",
   "nbconvert_exporter": "python",
   "pygments_lexer": "ipython3",
   "version": "3.9.19"
  }
 },
 "nbformat": 4,
 "nbformat_minor": 2
}
