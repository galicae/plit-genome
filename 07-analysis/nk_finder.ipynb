{
 "cells": [
  {
   "cell_type": "markdown",
   "metadata": {},
   "source": [
    "# Visualising the NK cluster\n",
    "\n",
    "## finding NK gene candidates\n",
    "\n",
    "We compiled a list of homeobox genes in the NK family from the [Aase-Remedios _et al._\n",
    "(2023)](https://doi.org/10.1093/molbev/msad239) analysis of the spider Homeobox gene repertoire. We\n",
    "used this list to scan against the _P. litorale_ draft genome using `mmseqs`:\n",
    "\n",
    "```bash\n",
    "cd /lisc/scratch/zoology/pycnogonum/genome/draft/nkx\n",
    "module load mmseqs2\n",
    "M8FORMAT=\"query,target,fident,alnlen,mismatch,gapopen,qstart,qend,tstart,tend,evalue,bits,qlen\"\n",
    "mmseqs easy-search nk_chelicerates.fa ../draft.fasta nk_genomic.m8 tmp --format-output $M8FORMAT --threads 4\n",
    "```"
   ]
  },
  {
   "cell_type": "markdown",
   "metadata": {},
   "source": [
    "First, we'll have to read the GFF file so that we can locate the loci that overlap with our genomic\n",
    "hits."
   ]
  },
  {
   "cell_type": "code",
   "execution_count": 1,
   "metadata": {},
   "outputs": [],
   "source": [
    "from tqdm import tqdm\n",
    "\n",
    "import pandas as pd\n",
    "import numpy as np\n",
    "\n",
    "from sklearn.cluster import DBSCAN\n",
    "from sklearn.datasets import make_blobs\n",
    "\n",
    "from matplotlib import pyplot as plt\n",
    "from matplotlib.patches import ConnectionPatch"
   ]
  },
  {
   "cell_type": "code",
   "execution_count": 2,
   "metadata": {},
   "outputs": [],
   "source": [
    "def read_gff(loc):\n",
    "    gff = pd.read_csv(loc, sep=\"\\t\", header=None, skiprows=4)\n",
    "    gff_columns = ['seqid', 'source', 'type', 'start', 'end', 'score', 'strand', 'phase', 'attributes']\n",
    "    gff.columns = gff_columns\n",
    "    return gff\n",
    "\n",
    "# read file, name columns\n",
    "def read_aln(m8, id_sep=None):\n",
    "    nk = pd.read_csv(m8, sep=\"\\t\", header=None)\n",
    "    m8_columns = ['query', 'target', 'seq_id', 'ali_len', 'no_mism', 'no_go',\n",
    "                'q_start', 'q_end', 't_start', 't_end', 'eval', 'bit', 'qlen']\n",
    "    nk.columns = m8_columns\n",
    "    # trim the query to just the ID\n",
    "    if id_sep is not None:\n",
    "        nk[\"query\"] = nk[\"query\"].str.split(id_sep).str[1]\n",
    "    return nk"
   ]
  },
  {
   "cell_type": "code",
   "execution_count": 3,
   "metadata": {},
   "outputs": [],
   "source": [
    "gff_loc = \"/Volumes/project/pycnogonum/paper/zenodo/results/merged_sorted_named_dedup_flagged.gff3\"\n",
    "tmp = read_gff(gff_loc)\n",
    "gff = tmp[tmp['type'] == 'gene'].copy()\n",
    "gff['gene'] = gff['attributes'].str.split(\"ID=\").str[1].str.split(\";\").str[0]\n",
    "del tmp"
   ]
  },
  {
   "cell_type": "code",
   "execution_count": 4,
   "metadata": {},
   "outputs": [],
   "source": [
    "nk = read_aln('/Volumes/scratch/pycnogonum/genome/draft/nkx/nk_genomic.m8')"
   ]
  },
  {
   "cell_type": "code",
   "execution_count": 5,
   "metadata": {},
   "outputs": [],
   "source": [
    "nk['species'] = nk['query'].str.split(\"_\").str[:2].str.join(\" \")\n",
    "nk['symbol'] = nk['query'].str.split(\"_\").str[2:].str.join(\"_\")"
   ]
  },
  {
   "cell_type": "code",
   "execution_count": 6,
   "metadata": {},
   "outputs": [],
   "source": [
    "def hit_to_locus(hit, gff):\n",
    "    same_chrom = gff['seqid'] == hit['target']\n",
    "    within_borders = (gff['start'] <= hit['t_start']) & (gff['end'] >= hit['t_end'])\n",
    "\n",
    "    overlap = gff[same_chrom & within_borders]\n",
    "    return overlap['gene'].values[0]"
   ]
  },
  {
   "cell_type": "code",
   "execution_count": 7,
   "metadata": {},
   "outputs": [],
   "source": [
    "hits = nk[nk['eval'] < 1e-10].copy()\n",
    "hits['gene'] = hits.apply(hit_to_locus, axis=1, gff=gff)"
   ]
  },
  {
   "cell_type": "code",
   "execution_count": 8,
   "metadata": {},
   "outputs": [
    {
     "data": {
      "text/plain": [
       "gene\n",
       "g2646        432\n",
       "PB.1005      426\n",
       "g8689        376\n",
       "g8691        347\n",
       "PB.1017      347\n",
       "PB.1018      334\n",
       "g10110       334\n",
       "PB.1003      326\n",
       "PB.7934      300\n",
       "PB.8153      287\n",
       "PB.3341      218\n",
       "g10112       213\n",
       "g9720        209\n",
       "PB.1830      171\n",
       "PB.3347      156\n",
       "g4363        148\n",
       "g9718        147\n",
       "g6828        147\n",
       "PB.8616      124\n",
       "g9723        109\n",
       "g9721        109\n",
       "PB.8615       97\n",
       "g1625         73\n",
       "g1627         73\n",
       "PB.3793       61\n",
       "g6864         35\n",
       "g6762         33\n",
       "PB.8617       26\n",
       "PB.1021        5\n",
       "g1744          5\n",
       "g1756          5\n",
       "g11364         4\n",
       "at_DN2391      4\n",
       "g9725          1\n",
       "Name: count, dtype: int64"
      ]
     },
     "execution_count": 8,
     "metadata": {},
     "output_type": "execute_result"
    }
   ],
   "source": [
    "hits['gene'].value_counts()"
   ]
  },
  {
   "cell_type": "code",
   "execution_count": 9,
   "metadata": {},
   "outputs": [],
   "source": [
    "candidates = hits['gene'].unique()"
   ]
  },
  {
   "cell_type": "code",
   "execution_count": 10,
   "metadata": {},
   "outputs": [],
   "source": [
    "plit_peptides = {}\n",
    "with open('/Volumes/project/pycnogonum/genome/draft/transcripts.fa.transdecoder.pep', 'r') as f:\n",
    "    lines = f.readlines()\n",
    "    for i, line in enumerate(lines):\n",
    "        if line.startswith(\">\"):\n",
    "            gene = line.split(\" \")[0][1:]\n",
    "            plit_peptides[gene] = \"\"\n",
    "        else:\n",
    "            plit_peptides[gene] += line.strip()"
   ]
  },
  {
   "cell_type": "code",
   "execution_count": 11,
   "metadata": {},
   "outputs": [],
   "source": [
    "candidate_sequences = {}\n",
    "for gene in plit_peptides:\n",
    "    for c in candidates:\n",
    "        if gene.startswith(c):\n",
    "            candidate_sequences[gene] = plit_peptides[gene]"
   ]
  },
  {
   "cell_type": "code",
   "execution_count": 12,
   "metadata": {},
   "outputs": [],
   "source": [
    "with open('/Volumes/scratch/pycnogonum/genome/draft/nkx/nk_candidates.fa', 'w') as f:\n",
    "    for gene, seq in candidate_sequences.items():\n",
    "        f.write(f\">{gene}\\n{seq}\\n\")"
   ]
  },
  {
   "cell_type": "markdown",
   "metadata": {},
   "source": [
    "Now we can concatenate all the sequences and align them.\n",
    "\n",
    "```bash\n",
    "cat nk_chelicerates.fa > nk.fa\n",
    "cat nk_candidates.fa >> nk.fa\n",
    "```\n",
    "\n",
    "First, quick-and-dirty alignment so we can just cut out the homeodomain regions from the _P.\n",
    "litorale_ sequences:\n",
    "\n",
    "```bash\n",
    "mafft --thread 4 nk.fa > nk_aligned.fasta\n",
    "```\n",
    "\n",
    "Now we can extract the homeodomain regions. This was done manually in Jalview, by deleting columns\n",
    "left and right of the homeobox region. Two _P. litorale_ isoforms that broke up the homeobox domain\n",
    "were excluded completely. Additionally, the _Hhex_ sequences were misaligned, which led to a break\n",
    "in the homeobox domain block. We trimmed up to the beginning of the homeobox domain and included the\n",
    "break, hoping that a realignment would fix this.\n",
    "\n",
    "The resulting trimmed alignment was saved as `homeobox.fasta` and\n",
    "re-aligned with MAFFT in L-INS-i mode (Probably most accurate, a little bit slower):\n",
    "\n",
    "```bash\n",
    "mafft --thread 4 --maxiterate 1000 --localpair homeobox.fasta > homeobox_aligned.fasta\n",
    "```\n",
    "\n",
    "The re-alignment improved the alignment quality, and we could safely trim the _P. litorale_\n",
    "positions that mapped to the misplaced _Hhex_ parts. The resulting alignment was input to IQTREE2.\n",
    "\n",
    "```bash\n",
    "module load iqtree\n",
    "/usr/bin/time iqtree2 -s ./homeobox_aligned.fasta -B 2000\n",
    "```\n",
    "\n",
    "The resulting tree was visualised in treeViewer. The tree was rooted manually using the _labial_\n",
    "sequences as a guide. Ultimately, a rooting that separated the NK/NK2 sequences was selected. In the\n",
    "process of tree analysis, we realized that two of the sequences in the _Hlx_ clade are actually\n",
    "Dbx sequences. The cause of this is the limited homeobox sequences used for this alignment, as the\n",
    "_dbx_ homeobox is very similar to the _hlx_ homeobox. Inclusion of longer sequences in the alignment\n",
    "immediately ponts out that the following sequences are _Dbx_ genes:\n",
    "\n"
   ]
  },
  {
   "cell_type": "code",
   "execution_count": 13,
   "metadata": {},
   "outputs": [],
   "source": [
    "names = {\n",
    "'PB.1017': 'Msx',\n",
    "'PB.1018': 'Msx',\n",
    "'g10110': 'Msx',\n",
    "'g10112': 'Msx',\n",
    "'PB.1003': 'NK1',\n",
    "'g6864': 'NK7',\n",
    "'PB.1005': 'NK5',\n",
    "'PB.7934': 'NK3',\n",
    "'g8689': 'NK4',\n",
    "'PB.3347': 'NK2.2',\n",
    "'PB.3341': 'NK2.1',\n",
    "'g6762': 'NK6',\n",
    "'PB.8153': 'Noto',\n",
    "'g1625': 'Emx',\n",
    "'g1627': 'Emx',\n",
    "'PB.1021': 'Hhex',\n",
    "'g6828': 'Lbx',\n",
    "'g8691': 'Tlx',\n",
    "'g1744': 'Hlx',\n",
    "'g1756': 'Hlx',\n",
    "}"
   ]
  },
  {
   "cell_type": "code",
   "execution_count": 14,
   "metadata": {},
   "outputs": [
    {
     "data": {
      "application/vnd.microsoft.datawrangler.viewer.v0+json": {
       "columns": [
        {
         "name": "gene",
         "rawType": "object",
         "type": "string"
        },
        {
         "name": "seqid",
         "rawType": "object",
         "type": "string"
        },
        {
         "name": "name",
         "rawType": "object",
         "type": "string"
        },
        {
         "name": "attributes",
         "rawType": "object",
         "type": "string"
        }
       ],
       "conversionMethod": "pd.DataFrame",
       "ref": "e9350fef-3dce-4bdd-8ee4-32b5bd6ea8f2",
       "rows": [
        [
         "PB.1005",
         "pseudochrom_6",
         "NK5",
         "ID=PB.1005;function=Homeodomain;gene=NK5;gene_id=PB.1005;note=manually annotated;pseudo=7"
        ],
        [
         "PB.1003",
         "pseudochrom_6",
         "NK1",
         "ID=PB.1003;function=sequence-specific DNA binding. It is involved in the biological process described with regulation of transcription, DNA-templated;gene=NK1;gene_id=PB.1003;note=manually annotated"
        ],
        [
         "PB.1017",
         "pseudochrom_6",
         "Msx",
         "ID=PB.1017;function=sequence-specific DNA binding. It is involved in the biological process described with regulation of transcription, DNA-templated;gene=Msx-PB.1017;gene_id=PB.1017;note=manually annotated"
        ],
        [
         "g10110",
         "pseudochrom_6",
         "Msx",
         "ID=g10110;function=sequence-specific DNA binding. It is involved in the biological process described with regulation of transcription, DNA-templated;gene=Msx-g10110;gene_id=g10110;note=manually annotated by the MAKER-P pipeline;product=Msx-g10110"
        ],
        [
         "PB.1018",
         "pseudochrom_6",
         "Msx",
         "ID=PB.1018;function=sequence-specific DNA binding. It is involved in the biological process described with regulation of transcription, DNA-templated;gene=Msx-PB.1018;gene_id=PB.1018;note=manually annotated"
        ],
        [
         "g10112",
         "pseudochrom_6",
         "Msx",
         "ID=g10112;function=Homeodomain;gene=Msx-g10112;gene_id=g10112;note=manually annotated"
        ],
        [
         "PB.1021",
         "pseudochrom_6",
         "Hhex",
         "ID=PB.1021;function=hepatic duct development;gene=HHEX;gene_id=PB.1021;note=manually annotated"
        ],
        [
         "PB.8153",
         "pseudochrom_51",
         "Noto",
         "ID=PB.8153;function=Homeodomain;gene=Noto;gene_id=PB.8153;note=manually annotated"
        ],
        [
         "g8689",
         "pseudochrom_48",
         "NK4",
         "ID=g8689;function=sequence-specific DNA binding. It is involved in the biological process described with regulation of transcription, DNA-templated;gene=NK4;gene_id=g8689;note=manually annotated"
        ],
        [
         "PB.7934",
         "pseudochrom_48",
         "NK3",
         "ID=PB.7934;function=homeobox;gene=NK3;gene_id=PB.7934;note=manually annotated;pseudo=7"
        ],
        [
         "g8691",
         "pseudochrom_48",
         "Tlx",
         "ID=g8691;function=sequence-specific DNA binding. It is involved in the biological process described with regulation of transcription, DNA-templated;gene=tlx;gene_id=g8691;note=manually annotated"
        ],
        [
         "g6828",
         "pseudochrom_38",
         "Lbx",
         "ID=g6828;function=sequence-specific DNA binding. It is involved in the biological process described with regulation of transcription, DNA-templated;gene=Lbx;gene_id=g6828;note=manually annotated"
        ],
        [
         "g6864",
         "pseudochrom_38",
         "NK7",
         "ID=g6864;function=NK7 transcription;gene=NK7;gene_id=g6864;note=manually annotated"
        ],
        [
         "g6762",
         "pseudochrom_37",
         "NK6",
         "ID=g6762;function=sequence-specific DNA binding. It is involved in the biological process described with regulation of transcription, DNA-templated;gene=NK6;gene_id=g6762;note=manually annotated"
        ],
        [
         "PB.3341",
         "pseudochrom_19",
         "NK2.1",
         "ID=PB.3341;function=DNA binding. It is involved in the biological process described with regulation of transcription, DNA-templated;gene=NK2.1;gene_id=PB.3341;note=manually annotated"
        ],
        [
         "PB.3347",
         "pseudochrom_19",
         "NK2.2",
         "ID=PB.3347;function=sequence-specific DNA binding. It is involved in the biological process described with regulation of transcription, DNA-templated;gene=NK2.2;gene_id=PB.3347;note=manually annotated;pseudo=7"
        ],
        [
         "g1744",
         "pseudochrom_17",
         "Hlx",
         "ID=g1744;function=Homeodomain;gene=HLX-g1744;gene_id=g1744;note=manually annotated"
        ],
        [
         "g1756",
         "pseudochrom_17",
         "Hlx",
         "ID=g1756;function=Homeodomain;gene=HLX-g1756;gene_id=g1756;note=manually annotated"
        ],
        [
         "g1625",
         "pseudochrom_16",
         "Emx",
         "ID=g1625;function=sequence-specific DNA binding. It is involved in the biological process described with regulation of transcription, DNA-templated;gene=Emx-g1625;gene_id=g1625;note=manually annotated"
        ],
        [
         "g1627",
         "pseudochrom_16",
         "Emx",
         "ID=g1627;function=sequence-specific DNA binding. It is involved in the biological process described with regulation of transcription, DNA-templated;gene=Emx-g1627;gene_id=g1627;note=manually annotated"
        ]
       ],
       "shape": {
        "columns": 3,
        "rows": 20
       }
      },
      "text/html": [
       "<div>\n",
       "<style scoped>\n",
       "    .dataframe tbody tr th:only-of-type {\n",
       "        vertical-align: middle;\n",
       "    }\n",
       "\n",
       "    .dataframe tbody tr th {\n",
       "        vertical-align: top;\n",
       "    }\n",
       "\n",
       "    .dataframe thead th {\n",
       "        text-align: right;\n",
       "    }\n",
       "</style>\n",
       "<table border=\"1\" class=\"dataframe\">\n",
       "  <thead>\n",
       "    <tr style=\"text-align: right;\">\n",
       "      <th></th>\n",
       "      <th>seqid</th>\n",
       "      <th>name</th>\n",
       "      <th>attributes</th>\n",
       "    </tr>\n",
       "    <tr>\n",
       "      <th>gene</th>\n",
       "      <th></th>\n",
       "      <th></th>\n",
       "      <th></th>\n",
       "    </tr>\n",
       "  </thead>\n",
       "  <tbody>\n",
       "    <tr>\n",
       "      <th>PB.1005</th>\n",
       "      <td>pseudochrom_6</td>\n",
       "      <td>NK5</td>\n",
       "      <td>ID=PB.1005;function=Homeodomain;gene=NK5;gene_...</td>\n",
       "    </tr>\n",
       "    <tr>\n",
       "      <th>PB.1003</th>\n",
       "      <td>pseudochrom_6</td>\n",
       "      <td>NK1</td>\n",
       "      <td>ID=PB.1003;function=sequence-specific DNA bind...</td>\n",
       "    </tr>\n",
       "    <tr>\n",
       "      <th>PB.1017</th>\n",
       "      <td>pseudochrom_6</td>\n",
       "      <td>Msx</td>\n",
       "      <td>ID=PB.1017;function=sequence-specific DNA bind...</td>\n",
       "    </tr>\n",
       "    <tr>\n",
       "      <th>g10110</th>\n",
       "      <td>pseudochrom_6</td>\n",
       "      <td>Msx</td>\n",
       "      <td>ID=g10110;function=sequence-specific DNA bindi...</td>\n",
       "    </tr>\n",
       "    <tr>\n",
       "      <th>PB.1018</th>\n",
       "      <td>pseudochrom_6</td>\n",
       "      <td>Msx</td>\n",
       "      <td>ID=PB.1018;function=sequence-specific DNA bind...</td>\n",
       "    </tr>\n",
       "    <tr>\n",
       "      <th>g10112</th>\n",
       "      <td>pseudochrom_6</td>\n",
       "      <td>Msx</td>\n",
       "      <td>ID=g10112;function=Homeodomain;gene=Msx-g10112...</td>\n",
       "    </tr>\n",
       "    <tr>\n",
       "      <th>PB.1021</th>\n",
       "      <td>pseudochrom_6</td>\n",
       "      <td>Hhex</td>\n",
       "      <td>ID=PB.1021;function=hepatic duct development;g...</td>\n",
       "    </tr>\n",
       "    <tr>\n",
       "      <th>PB.8153</th>\n",
       "      <td>pseudochrom_51</td>\n",
       "      <td>Noto</td>\n",
       "      <td>ID=PB.8153;function=Homeodomain;gene=Noto;gene...</td>\n",
       "    </tr>\n",
       "    <tr>\n",
       "      <th>g8689</th>\n",
       "      <td>pseudochrom_48</td>\n",
       "      <td>NK4</td>\n",
       "      <td>ID=g8689;function=sequence-specific DNA bindin...</td>\n",
       "    </tr>\n",
       "    <tr>\n",
       "      <th>PB.7934</th>\n",
       "      <td>pseudochrom_48</td>\n",
       "      <td>NK3</td>\n",
       "      <td>ID=PB.7934;function=homeobox;gene=NK3;gene_id=...</td>\n",
       "    </tr>\n",
       "    <tr>\n",
       "      <th>g8691</th>\n",
       "      <td>pseudochrom_48</td>\n",
       "      <td>Tlx</td>\n",
       "      <td>ID=g8691;function=sequence-specific DNA bindin...</td>\n",
       "    </tr>\n",
       "    <tr>\n",
       "      <th>g6828</th>\n",
       "      <td>pseudochrom_38</td>\n",
       "      <td>Lbx</td>\n",
       "      <td>ID=g6828;function=sequence-specific DNA bindin...</td>\n",
       "    </tr>\n",
       "    <tr>\n",
       "      <th>g6864</th>\n",
       "      <td>pseudochrom_38</td>\n",
       "      <td>NK7</td>\n",
       "      <td>ID=g6864;function=NK7 transcription;gene=NK7;g...</td>\n",
       "    </tr>\n",
       "    <tr>\n",
       "      <th>g6762</th>\n",
       "      <td>pseudochrom_37</td>\n",
       "      <td>NK6</td>\n",
       "      <td>ID=g6762;function=sequence-specific DNA bindin...</td>\n",
       "    </tr>\n",
       "    <tr>\n",
       "      <th>PB.3341</th>\n",
       "      <td>pseudochrom_19</td>\n",
       "      <td>NK2.1</td>\n",
       "      <td>ID=PB.3341;function=DNA binding. It is involve...</td>\n",
       "    </tr>\n",
       "    <tr>\n",
       "      <th>PB.3347</th>\n",
       "      <td>pseudochrom_19</td>\n",
       "      <td>NK2.2</td>\n",
       "      <td>ID=PB.3347;function=sequence-specific DNA bind...</td>\n",
       "    </tr>\n",
       "    <tr>\n",
       "      <th>g1744</th>\n",
       "      <td>pseudochrom_17</td>\n",
       "      <td>Hlx</td>\n",
       "      <td>ID=g1744;function=Homeodomain;gene=HLX-g1744;g...</td>\n",
       "    </tr>\n",
       "    <tr>\n",
       "      <th>g1756</th>\n",
       "      <td>pseudochrom_17</td>\n",
       "      <td>Hlx</td>\n",
       "      <td>ID=g1756;function=Homeodomain;gene=HLX-g1756;g...</td>\n",
       "    </tr>\n",
       "    <tr>\n",
       "      <th>g1625</th>\n",
       "      <td>pseudochrom_16</td>\n",
       "      <td>Emx</td>\n",
       "      <td>ID=g1625;function=sequence-specific DNA bindin...</td>\n",
       "    </tr>\n",
       "    <tr>\n",
       "      <th>g1627</th>\n",
       "      <td>pseudochrom_16</td>\n",
       "      <td>Emx</td>\n",
       "      <td>ID=g1627;function=sequence-specific DNA bindin...</td>\n",
       "    </tr>\n",
       "  </tbody>\n",
       "</table>\n",
       "</div>"
      ],
      "text/plain": [
       "                  seqid   name  \\\n",
       "gene                             \n",
       "PB.1005   pseudochrom_6    NK5   \n",
       "PB.1003   pseudochrom_6    NK1   \n",
       "PB.1017   pseudochrom_6    Msx   \n",
       "g10110    pseudochrom_6    Msx   \n",
       "PB.1018   pseudochrom_6    Msx   \n",
       "g10112    pseudochrom_6    Msx   \n",
       "PB.1021   pseudochrom_6   Hhex   \n",
       "PB.8153  pseudochrom_51   Noto   \n",
       "g8689    pseudochrom_48    NK4   \n",
       "PB.7934  pseudochrom_48    NK3   \n",
       "g8691    pseudochrom_48    Tlx   \n",
       "g6828    pseudochrom_38    Lbx   \n",
       "g6864    pseudochrom_38    NK7   \n",
       "g6762    pseudochrom_37    NK6   \n",
       "PB.3341  pseudochrom_19  NK2.1   \n",
       "PB.3347  pseudochrom_19  NK2.2   \n",
       "g1744    pseudochrom_17    Hlx   \n",
       "g1756    pseudochrom_17    Hlx   \n",
       "g1625    pseudochrom_16    Emx   \n",
       "g1627    pseudochrom_16    Emx   \n",
       "\n",
       "                                                attributes  \n",
       "gene                                                        \n",
       "PB.1005  ID=PB.1005;function=Homeodomain;gene=NK5;gene_...  \n",
       "PB.1003  ID=PB.1003;function=sequence-specific DNA bind...  \n",
       "PB.1017  ID=PB.1017;function=sequence-specific DNA bind...  \n",
       "g10110   ID=g10110;function=sequence-specific DNA bindi...  \n",
       "PB.1018  ID=PB.1018;function=sequence-specific DNA bind...  \n",
       "g10112   ID=g10112;function=Homeodomain;gene=Msx-g10112...  \n",
       "PB.1021  ID=PB.1021;function=hepatic duct development;g...  \n",
       "PB.8153  ID=PB.8153;function=Homeodomain;gene=Noto;gene...  \n",
       "g8689    ID=g8689;function=sequence-specific DNA bindin...  \n",
       "PB.7934  ID=PB.7934;function=homeobox;gene=NK3;gene_id=...  \n",
       "g8691    ID=g8691;function=sequence-specific DNA bindin...  \n",
       "g6828    ID=g6828;function=sequence-specific DNA bindin...  \n",
       "g6864    ID=g6864;function=NK7 transcription;gene=NK7;g...  \n",
       "g6762    ID=g6762;function=sequence-specific DNA bindin...  \n",
       "PB.3341  ID=PB.3341;function=DNA binding. It is involve...  \n",
       "PB.3347  ID=PB.3347;function=sequence-specific DNA bind...  \n",
       "g1744    ID=g1744;function=Homeodomain;gene=HLX-g1744;g...  \n",
       "g1756    ID=g1756;function=Homeodomain;gene=HLX-g1756;g...  \n",
       "g1625    ID=g1625;function=sequence-specific DNA bindin...  \n",
       "g1627    ID=g1627;function=sequence-specific DNA bindin...  "
      ]
     },
     "execution_count": 14,
     "metadata": {},
     "output_type": "execute_result"
    }
   ],
   "source": [
    "nk_cluster = gff.set_index('gene').loc[names.keys()]\n",
    "nk_cluster['name'] = nk_cluster.index.map(names)\n",
    "keep = ['seqid', 'name', 'attributes']\n",
    "nk_cluster.sort_values(['seqid', 'start'], ascending=[False, True])[keep]"
   ]
  }
 ],
 "metadata": {
  "kernelspec": {
   "display_name": "ascc24",
   "language": "python",
   "name": "python3"
  },
  "language_info": {
   "codemirror_mode": {
    "name": "ipython",
    "version": 3
   },
   "file_extension": ".py",
   "mimetype": "text/x-python",
   "name": "python",
   "nbconvert_exporter": "python",
   "pygments_lexer": "ipython3",
   "version": "3.9.19"
  }
 },
 "nbformat": 4,
 "nbformat_minor": 2
}
